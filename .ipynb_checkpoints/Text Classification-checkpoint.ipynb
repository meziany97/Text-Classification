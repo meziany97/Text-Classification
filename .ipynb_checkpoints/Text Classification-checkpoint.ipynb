{
 "cells": [
  {
   "cell_type": "markdown",
   "id": "24667cba",
   "metadata": {},
   "source": [
    "#                                           Text Classification using LSTM ,Tokenizer\n",
    "# import the libraries that we will use"
   ]
  },
  {
   "cell_type": "code",
   "execution_count": 1,
   "id": "6c70c4e4",
   "metadata": {},
   "outputs": [],
   "source": [
    "import json\n",
    "import keras.utils\n",
    "import tensorflow\n",
    "from tensorflow import  keras\n",
    "from tensorflow.keras.preprocessing.sequence import pad_sequences\n",
    "from tensorflow.keras.layers import Embedding, LSTM, Dense, Bidirectional,GlobalAveragePooling1D\n",
    "from tensorflow.keras.preprocessing.text import Tokenizer\n",
    "from tensorflow.keras.layers.experimental.preprocessing import TextVectorization\n",
    "from tensorflow.keras.models import Sequential\n",
    "from tensorflow.keras.optimizers import Adam\n",
    "import numpy as np"
   ]
  },
  {
   "cell_type": "markdown",
   "id": "ac26e3a0",
   "metadata": {},
   "source": [
    "# import dataset for training \n",
    "# define the sentences and labels that we will use in training the model."
   ]
  },
  {
   "cell_type": "code",
   "execution_count": 15,
   "id": "5d326d90",
   "metadata": {},
   "outputs": [],
   "source": [
    "with open('datatext.json', 'r') as f:\n",
    "    data=json.load(f)\n",
    "\n",
    "sentences=[]\n",
    "labels=[]\n",
    "for x in data:\n",
    "    sentences.append(x['headline']);\n",
    "    labels.append(x['is_sarcastic'])"
   ]
  },
  {
   "cell_type": "markdown",
   "id": "6a061cd0",
   "metadata": {},
   "source": [
    "# define the training dataset and testing dataset"
   ]
  },
  {
   "cell_type": "code",
   "execution_count": 16,
   "id": "0b362dfa",
   "metadata": {},
   "outputs": [],
   "source": [
    "tokenizer=Tokenizer(num_words=1000,oov_token='<OOV>')\n",
    "tokenizer.fit_on_texts(sentences)\n",
    "BUFFER_SIZE=1000\n",
    "BATCH_SIZE=64\n",
    "# sentences=sentences.shuffle(BUFFER_SIZE).batch(BATCH_SIZE)\n",
    "# labes=labes.shuffle(BUFFER_SIZE).batch(BATCH_SIZE)\n",
    "training_sentences=sentences[0:7000]\n",
    "training_labels=labels[0:7000]\n",
    "testing_sentences=sentences[7000:]\n",
    "testing_labels=labels[7000:]\n",
    "total_words=len(tokenizer.word_index)"
   ]
  },
  {
   "cell_type": "markdown",
   "id": "060ce428",
   "metadata": {},
   "source": [
    "# convert text(sentences) to sequences(tensors of indices)\n",
    "# then padding the sequences"
   ]
  },
  {
   "cell_type": "code",
   "execution_count": 17,
   "id": "42a44c45",
   "metadata": {},
   "outputs": [],
   "source": [
    "training_seq=tokenizer.texts_to_sequences(training_sentences)\n",
    "training_padded=pad_sequences(training_seq,maxlen=100,padding='post',truncating='post')\n",
    "\n",
    "testing_seq=tokenizer.texts_to_sequences(testing_sentences)\n",
    "testing_padded=pad_sequences(testing_seq,maxlen=100,padding='post',truncating='post')\n"
   ]
  },
  {
   "cell_type": "code",
   "execution_count": 22,
   "id": "7c6018b5",
   "metadata": {},
   "outputs": [],
   "source": [
    "training_padded=np.array(training_padded)\n",
    "testing_padded=np.array(testing_padded)\n",
    "training_labels=np.array(training_labels)\n",
    "testing_labels=np.array(testing_labels)\n",
    "training_labels = np.asarray(training_labels).astype('int32').reshape((-1,1))\n",
    "testing_labels = np.asarray(testing_labels).astype('int32').reshape((-1,1))"
   ]
  },
  {
   "cell_type": "markdown",
   "id": "260c5dd0",
   "metadata": {},
   "source": [
    "# CREATE THE MODEL \n",
    "you can use GlobalAveragePooling1D if you want to use RNN\n",
    "or LSTM "
   ]
  },
  {
   "cell_type": "code",
   "execution_count": 23,
   "id": "8540547c",
   "metadata": {},
   "outputs": [],
   "source": [
    "model=Sequential([\n",
    "    Embedding(total_words,32),\n",
    "    # GlobalAveragePooling1D(),\n",
    "    Bidirectional(LSTM(256,return_sequences=True)),\n",
    "    Bidirectional(LSTM(128,return_sequences=True)),\n",
    "    Bidirectional(LSTM(128,return_sequences=True)),\n",
    "    Bidirectional(LSTM(64,return_sequences=True)),\n",
    "    Bidirectional(LSTM(32,return_sequences=True)),\n",
    "    Dense(128,activation='relu'),\n",
    "    Dense(64,activation='relu'),\n",
    "    Dense(32,activation='relu'),\n",
    "    Dense(16,activation='relu'),\n",
    "    Dense(1,activation='sigmoid')\n",
    "])"
   ]
  },
  {
   "cell_type": "markdown",
   "id": "168a1aa8",
   "metadata": {},
   "source": [
    "# Compile and fit the model"
   ]
  },
  {
   "cell_type": "code",
   "execution_count": null,
   "id": "2532eb17",
   "metadata": {},
   "outputs": [
    {
     "name": "stdout",
     "output_type": "stream",
     "text": [
      "Epoch 1/100\n",
      " 19/219 [=>............................] - ETA: 7:59 - loss: 0.6928 - accuracy: 0.5064"
     ]
    }
   ],
   "source": [
    "model.compile(optimizer='adam',loss='binary_crossentropy',metrics=['accuracy'])\n",
    "model.fit(training_padded,training_labels,epochs=100,validation_data=(testing_padded,testing_labels))\n"
   ]
  },
  {
   "cell_type": "code",
   "execution_count": null,
   "id": "2ceca6f5",
   "metadata": {},
   "outputs": [],
   "source": [
    "seed_text=['you are beautiful','cool']\n",
    "seed_seq=tokenizer.texts_to_sequences(seed_text)\n",
    "seed_padded=pad_sequences(seed_seq)\n",
    "rslt=model.predict(seed_padded)\n",
    "rslt"
   ]
  },
  {
   "cell_type": "code",
   "execution_count": null,
   "id": "d957ac07",
   "metadata": {},
   "outputs": [],
   "source": []
  }
 ],
 "metadata": {
  "kernelspec": {
   "display_name": "Python 3 (ipykernel)",
   "language": "python",
   "name": "python3"
  },
  "language_info": {
   "codemirror_mode": {
    "name": "ipython",
    "version": 3
   },
   "file_extension": ".py",
   "mimetype": "text/x-python",
   "name": "python",
   "nbconvert_exporter": "python",
   "pygments_lexer": "ipython3",
   "version": "3.9.7"
  }
 },
 "nbformat": 4,
 "nbformat_minor": 5
}
