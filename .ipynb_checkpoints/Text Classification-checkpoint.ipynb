{
 "cells": [
  {
   "cell_type": "markdown",
   "id": "24667cba",
   "metadata": {},
   "source": [
    "#                                           Text Classification using LSTM ,Tokenizer\n",
    "# import the libraries that we will use"
   ]
  },
  {
   "cell_type": "code",
   "execution_count": 1,
   "id": "6c70c4e4",
   "metadata": {},
   "outputs": [],
   "source": [
    "\n",
    "import json\n",
    "import keras.utils\n",
    "import tensorflow\n",
    "from tensorflow import  keras\n",
    "from tensorflow.keras.preprocessing.sequence import pad_sequences\n",
    "from tensorflow.keras.layers import Embedding, LSTM, Dense, Bidirectional,GlobalAveragePooling1D\n",
    "from tensorflow.keras.preprocessing.text import Tokenizer\n",
    "from tensorflow.keras.layers.experimental.preprocessing import TextVectorization\n",
    "from tensorflow.keras.models import Sequential\n",
    "from tensorflow.keras.optimizers import Adam\n",
    "import numpy as np"
   ]
  },
  {
   "cell_type": "markdown",
   "id": "ac26e3a0",
   "metadata": {},
   "source": [
    "# import dataset for training \n",
    "# define the sentences and labels that we will use in training the model."
   ]
  },
  {
   "cell_type": "code",
   "execution_count": 2,
   "id": "5d326d90",
   "metadata": {},
   "outputs": [],
   "source": [
    "with open('datatext.json', 'r') as f:\n",
    "    data=json.load(f)\n",
    "\n",
    "sentences=[]\n",
    "labes=[]\n",
    "for x in data:\n",
    "    sentences.append(x['headline']);\n",
    "    labes.append(x['is_sarcastic'])"
   ]
  },
  {
   "cell_type": "markdown",
   "id": "6a061cd0",
   "metadata": {},
   "source": [
    "# define the training dataset and testing dataset"
   ]
  },
  {
   "cell_type": "code",
   "execution_count": 3,
   "id": "0b362dfa",
   "metadata": {},
   "outputs": [],
   "source": [
    "tokenizer=Tokenizer(num_words=1000,oov_token='<OOV>')\n",
    "tokenizer.fit_on_texts(sentences)\n",
    "BUFFER_SIZE=1000\n",
    "BATCH_SIZE=64\n",
    "# sentences=sentences.shuffle(BUFFER_SIZE).batch(BATCH_SIZE)\n",
    "# labes=labes.shuffle(BUFFER_SIZE).batch(BATCH_SIZE)\n",
    "training_sentences=sentences[0:7000]\n",
    "training_labels=labes[0:7000]\n",
    "testing_sentences=sentences[7000:]\n",
    "testing_labels=labes[7000:]\n",
    "total_words=len(tokenizer.word_index)"
   ]
  },
  {
   "cell_type": "markdown",
   "id": "060ce428",
   "metadata": {},
   "source": [
    "# convert text(sentences) to sequences(tensors of indices)\n",
    "# than padding the sequences"
   ]
  },
  {
   "cell_type": "code",
   "execution_count": 4,
   "id": "42a44c45",
   "metadata": {},
   "outputs": [],
   "source": [
    "training_seq=tokenizer.texts_to_sequences(training_sentences)\n",
    "training_padded=pad_sequences(training_seq,maxlen=100,padding='post',truncating='post')\n",
    "\n",
    "testing_seq=tokenizer.texts_to_sequences(testing_sentences)\n",
    "testing_padded=pad_sequences(testing_seq,maxlen=100,padding='post',truncating='post')\n"
   ]
  },
  {
   "cell_type": "code",
   "execution_count": 5,
   "id": "7c6018b5",
   "metadata": {},
   "outputs": [],
   "source": [
    "raining_padded=np.array(training_padded)\n",
    "testing_padded=np.array(testing_padded)\n",
    "training_labels=np.array(training_labels)\n",
    "testing_labels=np.array(testing_labels)"
   ]
  },
  {
   "cell_type": "markdown",
   "id": "260c5dd0",
   "metadata": {},
   "source": [
    "# CREATE THE MODEL \n",
    "you can use GlobalAveragePooling1D if you want to use RNN\n",
    "or LSTM "
   ]
  },
  {
   "cell_type": "code",
   "execution_count": 6,
   "id": "8540547c",
   "metadata": {},
   "outputs": [],
   "source": [
    "model=Sequential([\n",
    "    Embedding(total_words,32),\n",
    "    # GlobalAveragePooling1D(),\n",
    "    Bidirectional(LSTM(64)),\n",
    "    Dense(128,activation='relu'),\n",
    "    Dense(1,activation='sigmoid')\n",
    "])"
   ]
  },
  {
   "cell_type": "markdown",
   "id": "168a1aa8",
   "metadata": {},
   "source": [
    "# Compile and fit the model"
   ]
  },
  {
   "cell_type": "code",
   "execution_count": 7,
   "id": "2532eb17",
   "metadata": {},
   "outputs": [
    {
     "name": "stdout",
     "output_type": "stream",
     "text": [
      "Epoch 1/20\n",
      "219/219 [==============================] - 35s 130ms/step - loss: 0.5126 - accuracy: 0.7264 - val_loss: 0.4091 - val_accuracy: 0.8113\n",
      "Epoch 2/20\n",
      "219/219 [==============================] - 29s 131ms/step - loss: 0.3718 - accuracy: 0.8324 - val_loss: 0.4033 - val_accuracy: 0.8134\n",
      "Epoch 3/20\n",
      "219/219 [==============================] - 28s 127ms/step - loss: 0.3368 - accuracy: 0.8493 - val_loss: 0.3975 - val_accuracy: 0.8181\n",
      "Epoch 4/20\n",
      "219/219 [==============================] - 28s 127ms/step - loss: 0.2973 - accuracy: 0.8756 - val_loss: 0.4192 - val_accuracy: 0.8184\n",
      "Epoch 5/20\n",
      "219/219 [==============================] - 27s 122ms/step - loss: 0.2732 - accuracy: 0.8847 - val_loss: 0.4175 - val_accuracy: 0.8145\n",
      "Epoch 6/20\n",
      "219/219 [==============================] - 27s 124ms/step - loss: 0.2578 - accuracy: 0.8920 - val_loss: 0.4513 - val_accuracy: 0.8088\n",
      "Epoch 7/20\n",
      "219/219 [==============================] - 27s 123ms/step - loss: 0.2367 - accuracy: 0.9043 - val_loss: 0.4764 - val_accuracy: 0.8167\n",
      "Epoch 8/20\n",
      "219/219 [==============================] - 28s 127ms/step - loss: 0.2179 - accuracy: 0.9149 - val_loss: 0.4672 - val_accuracy: 0.8077\n",
      "Epoch 9/20\n",
      "219/219 [==============================] - 27s 124ms/step - loss: 0.2011 - accuracy: 0.9231 - val_loss: 0.5391 - val_accuracy: 0.8099\n",
      "Epoch 10/20\n",
      "219/219 [==============================] - 27s 123ms/step - loss: 0.1910 - accuracy: 0.9216 - val_loss: 0.5533 - val_accuracy: 0.8027\n",
      "Epoch 11/20\n",
      "219/219 [==============================] - 26s 117ms/step - loss: 0.1771 - accuracy: 0.9300 - val_loss: 0.5598 - val_accuracy: 0.7938\n",
      "Epoch 12/20\n",
      "219/219 [==============================] - 26s 120ms/step - loss: 0.1608 - accuracy: 0.9399 - val_loss: 0.6136 - val_accuracy: 0.8006\n",
      "Epoch 13/20\n",
      "219/219 [==============================] - 26s 118ms/step - loss: 0.1559 - accuracy: 0.9424 - val_loss: 0.5838 - val_accuracy: 0.8002\n",
      "Epoch 14/20\n",
      "219/219 [==============================] - 27s 124ms/step - loss: 0.1430 - accuracy: 0.9469 - val_loss: 0.6826 - val_accuracy: 0.8020\n",
      "Epoch 15/20\n",
      "219/219 [==============================] - 29s 132ms/step - loss: 0.1337 - accuracy: 0.9477 - val_loss: 0.7547 - val_accuracy: 0.7995\n",
      "Epoch 16/20\n",
      "219/219 [==============================] - 28s 126ms/step - loss: 0.1225 - accuracy: 0.9530 - val_loss: 0.8310 - val_accuracy: 0.7995\n",
      "Epoch 17/20\n",
      "219/219 [==============================] - 27s 124ms/step - loss: 0.1184 - accuracy: 0.9561 - val_loss: 0.7633 - val_accuracy: 0.7895\n",
      "Epoch 18/20\n",
      "219/219 [==============================] - 32s 146ms/step - loss: 0.1085 - accuracy: 0.9601 - val_loss: 0.7587 - val_accuracy: 0.7966\n",
      "Epoch 19/20\n",
      "219/219 [==============================] - 27s 123ms/step - loss: 0.1051 - accuracy: 0.9617 - val_loss: 0.9229 - val_accuracy: 0.7927\n",
      "Epoch 20/20\n",
      "219/219 [==============================] - 29s 131ms/step - loss: 0.0978 - accuracy: 0.9641 - val_loss: 0.8851 - val_accuracy: 0.7974\n"
     ]
    },
    {
     "data": {
      "text/plain": [
       "<keras.callbacks.History at 0x222b1607ac0>"
      ]
     },
     "execution_count": 7,
     "metadata": {},
     "output_type": "execute_result"
    }
   ],
   "source": [
    "model.compile(optimizer='adam',loss='binary_crossentropy',metrics=['accuracy'])\n",
    "model.fit(training_padded,training_labels,epochs=100,validation_data=(testing_padded,testing_labels))\n"
   ]
  },
  {
   "cell_type": "code",
   "execution_count": 27,
   "id": "2ceca6f5",
   "metadata": {},
   "outputs": [
    {
     "name": "stdout",
     "output_type": "stream",
     "text": [
      "1/1 [==============================] - 0s 30ms/step\n"
     ]
    },
    {
     "data": {
      "text/plain": [
       "array([[0.00802113],\n",
       "       [0.0036388 ]], dtype=float32)"
      ]
     },
     "execution_count": 27,
     "metadata": {},
     "output_type": "execute_result"
    }
   ],
   "source": [
    "seed_text=['you are beautiful','cool']\n",
    "seed_seq=tokenizer.texts_to_sequences(seed_text)\n",
    "seed_padded=pad_sequences(seed_seq)\n",
    "rslt=model.predict(seed_padded)\n",
    "rslt"
   ]
  }
 ],
 "metadata": {
  "kernelspec": {
   "display_name": "Python 3 (ipykernel)",
   "language": "python",
   "name": "python3"
  },
  "language_info": {
   "codemirror_mode": {
    "name": "ipython",
    "version": 3
   },
   "file_extension": ".py",
   "mimetype": "text/x-python",
   "name": "python",
   "nbconvert_exporter": "python",
   "pygments_lexer": "ipython3",
   "version": "3.9.7"
  }
 },
 "nbformat": 4,
 "nbformat_minor": 5
}
